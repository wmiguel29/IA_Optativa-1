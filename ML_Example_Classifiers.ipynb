{
  "nbformat": 4,
  "nbformat_minor": 0,
  "metadata": {
    "colab": {
      "name": "ML_Example_Classifiers.ipynb",
      "provenance": [],
      "collapsed_sections": [],
      "include_colab_link": true
    },
    "kernelspec": {
      "name": "python3",
      "display_name": "Python 3"
    }
  },
  "cells": [
    {
      "cell_type": "markdown",
      "metadata": {
        "id": "view-in-github",
        "colab_type": "text"
      },
      "source": [
        "<a href=\"https://colab.research.google.com/github/ibonetc/IA_Optativa/blob/main/ML_Example_Classifiers.ipynb\" target=\"_parent\"><img src=\"https://colab.research.google.com/assets/colab-badge.svg\" alt=\"Open In Colab\"/></a>"
      ]
    },
    {
      "cell_type": "markdown",
      "metadata": {
        "id": "4rmm2Plg3pSR"
      },
      "source": [
        "## Ejemplo de KNN con la base de datos Iris\n",
        "\n",
        "Ahora descargue la base de datos de iris y súbala a los archivos"
      ]
    },
    {
      "cell_type": "code",
      "metadata": {
        "id": "JLyM9Er4-imn"
      },
      "source": [
        "import numpy as np\n",
        "import pandas as pd\n",
        "import matplotlib.pyplot as plt"
      ],
      "execution_count": 1,
      "outputs": []
    },
    {
      "cell_type": "code",
      "metadata": {
        "id": "p3kVuZvy-pzi"
      },
      "source": [
        "dataframe = pd.read_csv(\"iris.csv\", header=None)\n",
        "dataset = dataframe.values\n",
        "X = dataset[:,0:-1].astype(float)\n",
        "Y = dataset[:,-1]"
      ],
      "execution_count": 2,
      "outputs": []
    },
    {
      "cell_type": "code",
      "metadata": {
        "id": "uBIWyXDD-3eJ"
      },
      "source": [
        "from sklearn.model_selection import train_test_split"
      ],
      "execution_count": 3,
      "outputs": []
    },
    {
      "cell_type": "code",
      "metadata": {
        "id": "QjrlFrka-8V6"
      },
      "source": [
        "X_train,X_test,y_train,y_test = train_test_split(X,Y,test_size=0.2,random_state=9,stratify=Y)"
      ],
      "execution_count": 4,
      "outputs": []
    },
    {
      "cell_type": "code",
      "metadata": {
        "id": "W2RYqIMBCI8O",
        "colab": {
          "base_uri": "https://localhost:8080/"
        },
        "outputId": "8599ffd7-bd62-4491-b7b1-4563053377be"
      },
      "source": [
        "print(np.unique(y_train,return_counts=True))\n",
        "print(np.unique(y_test,return_counts=True))"
      ],
      "execution_count": 5,
      "outputs": [
        {
          "output_type": "stream",
          "name": "stdout",
          "text": [
            "(array(['Iris-setosa', 'Iris-versicolor', 'Iris-virginica'], dtype=object), array([40, 40, 40]))\n",
            "(array(['Iris-setosa', 'Iris-versicolor', 'Iris-virginica'], dtype=object), array([10, 10, 10]))\n"
          ]
        }
      ]
    },
    {
      "cell_type": "code",
      "metadata": {
        "id": "-A9DjgXVCvbx"
      },
      "source": [
        "from sklearn.neighbors import KNeighborsClassifier"
      ],
      "execution_count": 6,
      "outputs": []
    },
    {
      "cell_type": "code",
      "metadata": {
        "id": "fXoJlqg0DMY_",
        "colab": {
          "base_uri": "https://localhost:8080/"
        },
        "outputId": "c06845e5-b95b-4088-b94f-514340f9b027"
      },
      "source": [
        "knn = KNeighborsClassifier(n_neighbors=5,metric='euclidean')\n",
        "knn.fit(X_train,y_train)"
      ],
      "execution_count": 7,
      "outputs": [
        {
          "output_type": "execute_result",
          "data": {
            "text/plain": [
              "KNeighborsClassifier(metric='euclidean')"
            ]
          },
          "metadata": {},
          "execution_count": 7
        }
      ]
    },
    {
      "cell_type": "code",
      "metadata": {
        "id": "IvZRZHM2EJlA",
        "colab": {
          "base_uri": "https://localhost:8080/"
        },
        "outputId": "e9c6f992-c9dc-47fd-f9f5-97bfa8feee52"
      },
      "source": [
        "train_accuracy= knn.score(X_train, y_train)\n",
        "test_accuracy=knn.score(X_test, y_test)\n",
        "print(train_accuracy)\n",
        "print(test_accuracy)"
      ],
      "execution_count": 8,
      "outputs": [
        {
          "output_type": "stream",
          "name": "stdout",
          "text": [
            "0.9666666666666667\n",
            "1.0\n"
          ]
        }
      ]
    },
    {
      "cell_type": "code",
      "metadata": {
        "id": "iSLITs30FbBn"
      },
      "source": [
        "from sklearn.metrics import confusion_matrix"
      ],
      "execution_count": 9,
      "outputs": []
    },
    {
      "cell_type": "code",
      "metadata": {
        "id": "YmEmCANaFb5Y"
      },
      "source": [
        "y_pred = knn.predict(X_test)"
      ],
      "execution_count": 10,
      "outputs": []
    },
    {
      "cell_type": "code",
      "metadata": {
        "id": "k7QGHLB8Fh4M",
        "colab": {
          "base_uri": "https://localhost:8080/",
          "height": 258
        },
        "outputId": "98787e4d-9796-4971-82e7-4934fee77e32"
      },
      "source": [
        "cm=confusion_matrix(y_test,y_pred)\n",
        "print(cm)\n",
        "pd.crosstab(y_test, y_pred, rownames=['True'], colnames=['Predicted'], margins=True)"
      ],
      "execution_count": 11,
      "outputs": [
        {
          "output_type": "stream",
          "name": "stdout",
          "text": [
            "[[10  0  0]\n",
            " [ 0 10  0]\n",
            " [ 0  0 10]]\n"
          ]
        },
        {
          "output_type": "execute_result",
          "data": {
            "text/plain": [
              "Predicted        Iris-setosa  Iris-versicolor  Iris-virginica  All\n",
              "True                                                              \n",
              "Iris-setosa               10                0               0   10\n",
              "Iris-versicolor            0               10               0   10\n",
              "Iris-virginica             0                0              10   10\n",
              "All                       10               10              10   30"
            ],
            "text/html": [
              "\n",
              "  <div id=\"df-df378cc7-d0d2-402b-a8d2-08f4d0cefed8\">\n",
              "    <div class=\"colab-df-container\">\n",
              "      <div>\n",
              "<style scoped>\n",
              "    .dataframe tbody tr th:only-of-type {\n",
              "        vertical-align: middle;\n",
              "    }\n",
              "\n",
              "    .dataframe tbody tr th {\n",
              "        vertical-align: top;\n",
              "    }\n",
              "\n",
              "    .dataframe thead th {\n",
              "        text-align: right;\n",
              "    }\n",
              "</style>\n",
              "<table border=\"1\" class=\"dataframe\">\n",
              "  <thead>\n",
              "    <tr style=\"text-align: right;\">\n",
              "      <th>Predicted</th>\n",
              "      <th>Iris-setosa</th>\n",
              "      <th>Iris-versicolor</th>\n",
              "      <th>Iris-virginica</th>\n",
              "      <th>All</th>\n",
              "    </tr>\n",
              "    <tr>\n",
              "      <th>True</th>\n",
              "      <th></th>\n",
              "      <th></th>\n",
              "      <th></th>\n",
              "      <th></th>\n",
              "    </tr>\n",
              "  </thead>\n",
              "  <tbody>\n",
              "    <tr>\n",
              "      <th>Iris-setosa</th>\n",
              "      <td>10</td>\n",
              "      <td>0</td>\n",
              "      <td>0</td>\n",
              "      <td>10</td>\n",
              "    </tr>\n",
              "    <tr>\n",
              "      <th>Iris-versicolor</th>\n",
              "      <td>0</td>\n",
              "      <td>10</td>\n",
              "      <td>0</td>\n",
              "      <td>10</td>\n",
              "    </tr>\n",
              "    <tr>\n",
              "      <th>Iris-virginica</th>\n",
              "      <td>0</td>\n",
              "      <td>0</td>\n",
              "      <td>10</td>\n",
              "      <td>10</td>\n",
              "    </tr>\n",
              "    <tr>\n",
              "      <th>All</th>\n",
              "      <td>10</td>\n",
              "      <td>10</td>\n",
              "      <td>10</td>\n",
              "      <td>30</td>\n",
              "    </tr>\n",
              "  </tbody>\n",
              "</table>\n",
              "</div>\n",
              "      <button class=\"colab-df-convert\" onclick=\"convertToInteractive('df-df378cc7-d0d2-402b-a8d2-08f4d0cefed8')\"\n",
              "              title=\"Convert this dataframe to an interactive table.\"\n",
              "              style=\"display:none;\">\n",
              "        \n",
              "  <svg xmlns=\"http://www.w3.org/2000/svg\" height=\"24px\"viewBox=\"0 0 24 24\"\n",
              "       width=\"24px\">\n",
              "    <path d=\"M0 0h24v24H0V0z\" fill=\"none\"/>\n",
              "    <path d=\"M18.56 5.44l.94 2.06.94-2.06 2.06-.94-2.06-.94-.94-2.06-.94 2.06-2.06.94zm-11 1L8.5 8.5l.94-2.06 2.06-.94-2.06-.94L8.5 2.5l-.94 2.06-2.06.94zm10 10l.94 2.06.94-2.06 2.06-.94-2.06-.94-.94-2.06-.94 2.06-2.06.94z\"/><path d=\"M17.41 7.96l-1.37-1.37c-.4-.4-.92-.59-1.43-.59-.52 0-1.04.2-1.43.59L10.3 9.45l-7.72 7.72c-.78.78-.78 2.05 0 2.83L4 21.41c.39.39.9.59 1.41.59.51 0 1.02-.2 1.41-.59l7.78-7.78 2.81-2.81c.8-.78.8-2.07 0-2.86zM5.41 20L4 18.59l7.72-7.72 1.47 1.35L5.41 20z\"/>\n",
              "  </svg>\n",
              "      </button>\n",
              "      \n",
              "  <style>\n",
              "    .colab-df-container {\n",
              "      display:flex;\n",
              "      flex-wrap:wrap;\n",
              "      gap: 12px;\n",
              "    }\n",
              "\n",
              "    .colab-df-convert {\n",
              "      background-color: #E8F0FE;\n",
              "      border: none;\n",
              "      border-radius: 50%;\n",
              "      cursor: pointer;\n",
              "      display: none;\n",
              "      fill: #1967D2;\n",
              "      height: 32px;\n",
              "      padding: 0 0 0 0;\n",
              "      width: 32px;\n",
              "    }\n",
              "\n",
              "    .colab-df-convert:hover {\n",
              "      background-color: #E2EBFA;\n",
              "      box-shadow: 0px 1px 2px rgba(60, 64, 67, 0.3), 0px 1px 3px 1px rgba(60, 64, 67, 0.15);\n",
              "      fill: #174EA6;\n",
              "    }\n",
              "\n",
              "    [theme=dark] .colab-df-convert {\n",
              "      background-color: #3B4455;\n",
              "      fill: #D2E3FC;\n",
              "    }\n",
              "\n",
              "    [theme=dark] .colab-df-convert:hover {\n",
              "      background-color: #434B5C;\n",
              "      box-shadow: 0px 1px 3px 1px rgba(0, 0, 0, 0.15);\n",
              "      filter: drop-shadow(0px 1px 2px rgba(0, 0, 0, 0.3));\n",
              "      fill: #FFFFFF;\n",
              "    }\n",
              "  </style>\n",
              "\n",
              "      <script>\n",
              "        const buttonEl =\n",
              "          document.querySelector('#df-df378cc7-d0d2-402b-a8d2-08f4d0cefed8 button.colab-df-convert');\n",
              "        buttonEl.style.display =\n",
              "          google.colab.kernel.accessAllowed ? 'block' : 'none';\n",
              "\n",
              "        async function convertToInteractive(key) {\n",
              "          const element = document.querySelector('#df-df378cc7-d0d2-402b-a8d2-08f4d0cefed8');\n",
              "          const dataTable =\n",
              "            await google.colab.kernel.invokeFunction('convertToInteractive',\n",
              "                                                     [key], {});\n",
              "          if (!dataTable) return;\n",
              "\n",
              "          const docLinkHtml = 'Like what you see? Visit the ' +\n",
              "            '<a target=\"_blank\" href=https://colab.research.google.com/notebooks/data_table.ipynb>data table notebook</a>'\n",
              "            + ' to learn more about interactive tables.';\n",
              "          element.innerHTML = '';\n",
              "          dataTable['output_type'] = 'display_data';\n",
              "          await google.colab.output.renderOutput(dataTable, element);\n",
              "          const docLink = document.createElement('div');\n",
              "          docLink.innerHTML = docLinkHtml;\n",
              "          element.appendChild(docLink);\n",
              "        }\n",
              "      </script>\n",
              "    </div>\n",
              "  </div>\n",
              "  "
            ]
          },
          "metadata": {},
          "execution_count": 11
        }
      ]
    },
    {
      "cell_type": "code",
      "metadata": {
        "id": "eLYr846kF0aN",
        "colab": {
          "base_uri": "https://localhost:8080/"
        },
        "outputId": "1788d332-05a3-46d1-beb7-ad74044bc743"
      },
      "source": [
        "from sklearn.metrics import classification_report\n",
        "print(classification_report(y_test,y_pred))"
      ],
      "execution_count": 12,
      "outputs": [
        {
          "output_type": "stream",
          "name": "stdout",
          "text": [
            "                 precision    recall  f1-score   support\n",
            "\n",
            "    Iris-setosa       1.00      1.00      1.00        10\n",
            "Iris-versicolor       1.00      1.00      1.00        10\n",
            " Iris-virginica       1.00      1.00      1.00        10\n",
            "\n",
            "       accuracy                           1.00        30\n",
            "      macro avg       1.00      1.00      1.00        30\n",
            "   weighted avg       1.00      1.00      1.00        30\n",
            "\n"
          ]
        }
      ]
    },
    {
      "cell_type": "code",
      "metadata": {
        "id": "RBAg7u8nfaeg",
        "colab": {
          "base_uri": "https://localhost:8080/"
        },
        "outputId": "d31a9bce-6784-4d87-f17a-c7ff49dbc72e"
      },
      "source": [
        "y_train_pred=knn.predict(X)\n",
        "print(classification_report(Y,y_train_pred))"
      ],
      "execution_count": 13,
      "outputs": [
        {
          "output_type": "stream",
          "name": "stdout",
          "text": [
            "                 precision    recall  f1-score   support\n",
            "\n",
            "    Iris-setosa       1.00      1.00      1.00        50\n",
            "Iris-versicolor       0.96      0.96      0.96        50\n",
            " Iris-virginica       0.96      0.96      0.96        50\n",
            "\n",
            "       accuracy                           0.97       150\n",
            "      macro avg       0.97      0.97      0.97       150\n",
            "   weighted avg       0.97      0.97      0.97       150\n",
            "\n"
          ]
        }
      ]
    },
    {
      "cell_type": "code",
      "metadata": {
        "id": "-nobzHwNHUkN",
        "colab": {
          "base_uri": "https://localhost:8080/"
        },
        "outputId": "86ec42e4-cd98-4245-a8df-cd7bd0151ea3"
      },
      "source": [
        "y_pred_proba=knn.predict_proba(X)\n",
        "y_pred_proba"
      ],
      "execution_count": 14,
      "outputs": [
        {
          "output_type": "execute_result",
          "data": {
            "text/plain": [
              "array([[1. , 0. , 0. ],\n",
              "       [1. , 0. , 0. ],\n",
              "       [1. , 0. , 0. ],\n",
              "       [1. , 0. , 0. ],\n",
              "       [1. , 0. , 0. ],\n",
              "       [1. , 0. , 0. ],\n",
              "       [1. , 0. , 0. ],\n",
              "       [1. , 0. , 0. ],\n",
              "       [1. , 0. , 0. ],\n",
              "       [1. , 0. , 0. ],\n",
              "       [1. , 0. , 0. ],\n",
              "       [1. , 0. , 0. ],\n",
              "       [1. , 0. , 0. ],\n",
              "       [1. , 0. , 0. ],\n",
              "       [1. , 0. , 0. ],\n",
              "       [1. , 0. , 0. ],\n",
              "       [1. , 0. , 0. ],\n",
              "       [1. , 0. , 0. ],\n",
              "       [1. , 0. , 0. ],\n",
              "       [1. , 0. , 0. ],\n",
              "       [1. , 0. , 0. ],\n",
              "       [1. , 0. , 0. ],\n",
              "       [1. , 0. , 0. ],\n",
              "       [1. , 0. , 0. ],\n",
              "       [1. , 0. , 0. ],\n",
              "       [1. , 0. , 0. ],\n",
              "       [1. , 0. , 0. ],\n",
              "       [1. , 0. , 0. ],\n",
              "       [1. , 0. , 0. ],\n",
              "       [1. , 0. , 0. ],\n",
              "       [1. , 0. , 0. ],\n",
              "       [1. , 0. , 0. ],\n",
              "       [1. , 0. , 0. ],\n",
              "       [1. , 0. , 0. ],\n",
              "       [1. , 0. , 0. ],\n",
              "       [1. , 0. , 0. ],\n",
              "       [1. , 0. , 0. ],\n",
              "       [1. , 0. , 0. ],\n",
              "       [1. , 0. , 0. ],\n",
              "       [1. , 0. , 0. ],\n",
              "       [1. , 0. , 0. ],\n",
              "       [1. , 0. , 0. ],\n",
              "       [1. , 0. , 0. ],\n",
              "       [1. , 0. , 0. ],\n",
              "       [1. , 0. , 0. ],\n",
              "       [1. , 0. , 0. ],\n",
              "       [1. , 0. , 0. ],\n",
              "       [1. , 0. , 0. ],\n",
              "       [1. , 0. , 0. ],\n",
              "       [1. , 0. , 0. ],\n",
              "       [0. , 1. , 0. ],\n",
              "       [0. , 1. , 0. ],\n",
              "       [0. , 1. , 0. ],\n",
              "       [0. , 1. , 0. ],\n",
              "       [0. , 1. , 0. ],\n",
              "       [0. , 1. , 0. ],\n",
              "       [0. , 0.8, 0.2],\n",
              "       [0. , 1. , 0. ],\n",
              "       [0. , 1. , 0. ],\n",
              "       [0. , 1. , 0. ],\n",
              "       [0. , 1. , 0. ],\n",
              "       [0. , 1. , 0. ],\n",
              "       [0. , 1. , 0. ],\n",
              "       [0. , 0.8, 0.2],\n",
              "       [0. , 1. , 0. ],\n",
              "       [0. , 1. , 0. ],\n",
              "       [0. , 1. , 0. ],\n",
              "       [0. , 1. , 0. ],\n",
              "       [0. , 0.8, 0.2],\n",
              "       [0. , 1. , 0. ],\n",
              "       [0. , 0.6, 0.4],\n",
              "       [0. , 1. , 0. ],\n",
              "       [0. , 0.4, 0.6],\n",
              "       [0. , 1. , 0. ],\n",
              "       [0. , 1. , 0. ],\n",
              "       [0. , 1. , 0. ],\n",
              "       [0. , 0.8, 0.2],\n",
              "       [0. , 0.6, 0.4],\n",
              "       [0. , 1. , 0. ],\n",
              "       [0. , 1. , 0. ],\n",
              "       [0. , 1. , 0. ],\n",
              "       [0. , 1. , 0. ],\n",
              "       [0. , 1. , 0. ],\n",
              "       [0. , 0.2, 0.8],\n",
              "       [0. , 1. , 0. ],\n",
              "       [0. , 1. , 0. ],\n",
              "       [0. , 1. , 0. ],\n",
              "       [0. , 1. , 0. ],\n",
              "       [0. , 1. , 0. ],\n",
              "       [0. , 1. , 0. ],\n",
              "       [0. , 1. , 0. ],\n",
              "       [0. , 1. , 0. ],\n",
              "       [0. , 1. , 0. ],\n",
              "       [0. , 1. , 0. ],\n",
              "       [0. , 1. , 0. ],\n",
              "       [0. , 1. , 0. ],\n",
              "       [0. , 1. , 0. ],\n",
              "       [0. , 1. , 0. ],\n",
              "       [0. , 1. , 0. ],\n",
              "       [0. , 1. , 0. ],\n",
              "       [0. , 0. , 1. ],\n",
              "       [0. , 0.2, 0.8],\n",
              "       [0. , 0. , 1. ],\n",
              "       [0. , 0. , 1. ],\n",
              "       [0. , 0. , 1. ],\n",
              "       [0. , 0. , 1. ],\n",
              "       [0. , 0.8, 0.2],\n",
              "       [0. , 0. , 1. ],\n",
              "       [0. , 0. , 1. ],\n",
              "       [0. , 0. , 1. ],\n",
              "       [0. , 0. , 1. ],\n",
              "       [0. , 0. , 1. ],\n",
              "       [0. , 0. , 1. ],\n",
              "       [0. , 0.2, 0.8],\n",
              "       [0. , 0. , 1. ],\n",
              "       [0. , 0. , 1. ],\n",
              "       [0. , 0. , 1. ],\n",
              "       [0. , 0. , 1. ],\n",
              "       [0. , 0. , 1. ],\n",
              "       [0. , 0.6, 0.4],\n",
              "       [0. , 0. , 1. ],\n",
              "       [0. , 0. , 1. ],\n",
              "       [0. , 0. , 1. ],\n",
              "       [0. , 0.2, 0.8],\n",
              "       [0. , 0. , 1. ],\n",
              "       [0. , 0. , 1. ],\n",
              "       [0. , 0.2, 0.8],\n",
              "       [0. , 0.2, 0.8],\n",
              "       [0. , 0. , 1. ],\n",
              "       [0. , 0. , 1. ],\n",
              "       [0. , 0. , 1. ],\n",
              "       [0. , 0. , 1. ],\n",
              "       [0. , 0. , 1. ],\n",
              "       [0. , 0.4, 0.6],\n",
              "       [0. , 0.2, 0.8],\n",
              "       [0. , 0. , 1. ],\n",
              "       [0. , 0. , 1. ],\n",
              "       [0. , 0. , 1. ],\n",
              "       [0. , 0.2, 0.8],\n",
              "       [0. , 0. , 1. ],\n",
              "       [0. , 0. , 1. ],\n",
              "       [0. , 0. , 1. ],\n",
              "       [0. , 0.2, 0.8],\n",
              "       [0. , 0. , 1. ],\n",
              "       [0. , 0. , 1. ],\n",
              "       [0. , 0. , 1. ],\n",
              "       [0. , 0.4, 0.6],\n",
              "       [0. , 0. , 1. ],\n",
              "       [0. , 0. , 1. ],\n",
              "       [0. , 0.2, 0.8]])"
            ]
          },
          "metadata": {},
          "execution_count": 14
        }
      ]
    },
    {
      "cell_type": "code",
      "metadata": {
        "id": "tYQLB2ktDLM7"
      },
      "source": [
        "neighbors = np.arange(1,20)\n",
        "\n",
        "train_accuracy =np.empty(len(neighbors))\n",
        "test_accuracy = np.empty(len(neighbors))\n",
        "\n",
        "for i,k in enumerate(neighbors):\n",
        "    knn = KNeighborsClassifier(n_neighbors=k)\n",
        "    knn.fit(X_train, y_train)\n",
        "    train_accuracy[i] = knn.score(X_train, y_train)\n",
        "    test_accuracy[i] = knn.score(X_test, y_test) "
      ],
      "execution_count": 15,
      "outputs": []
    },
    {
      "cell_type": "code",
      "metadata": {
        "id": "a6NWQONWKTdI",
        "colab": {
          "base_uri": "https://localhost:8080/",
          "height": 295
        },
        "outputId": "1a60cd9b-9dc0-4c72-f0f3-f7408a2b379a"
      },
      "source": [
        "plt.title('k-NN')\n",
        "plt.plot(neighbors, test_accuracy, label='Testing Accuracy')\n",
        "plt.plot(neighbors, train_accuracy, label='Training accuracy')\n",
        "plt.legend()\n",
        "plt.xlabel('Number of neighbors')\n",
        "plt.ylabel('Accuracy')\n",
        "plt.show()"
      ],
      "execution_count": 16,
      "outputs": [
        {
          "output_type": "display_data",
          "data": {
            "text/plain": [
              "<Figure size 432x288 with 1 Axes>"
            ],
            "image/png": "[encoded data removed]"
          },
          "metadata": {
            "needs_background": "light"
          }
        }
      ]
    },
    {
      "cell_type": "code",
      "metadata": {
        "id": "74GlZ7M0KX89",
        "colab": {
          "base_uri": "https://localhost:8080/"
        },
        "outputId": "d54599f5-effb-42e5-ef31-b92f29dccdce"
      },
      "source": [
        "knn = KNeighborsClassifier(n_neighbors=9, metric='euclidean')\n",
        "knn.fit(X_train,y_train)"
      ],
      "execution_count": 17,
      "outputs": [
        {
          "output_type": "execute_result",
          "data": {
            "text/plain": [
              "KNeighborsClassifier(metric='euclidean', n_neighbors=9)"
            ]
          },
          "metadata": {},
          "execution_count": 17
        }
      ]
    },
    {
      "cell_type": "code",
      "metadata": {
        "id": "QsHweCMTilDK",
        "colab": {
          "base_uri": "https://localhost:8080/"
        },
        "outputId": "48303153-4a32-48a7-f6bb-ee8a1e23e420"
      },
      "source": [
        "knn.score(X_train,y_train)"
      ],
      "execution_count": 18,
      "outputs": [
        {
          "output_type": "execute_result",
          "data": {
            "text/plain": [
              "0.9833333333333333"
            ]
          },
          "metadata": {},
          "execution_count": 18
        }
      ]
    },
    {
      "cell_type": "code",
      "metadata": {
        "id": "xP3kShjQ7A3p",
        "colab": {
          "base_uri": "https://localhost:8080/"
        },
        "outputId": "caef9107-d8f2-479d-e107-05f810e6bb88"
      },
      "source": [
        "knn.predict([[0.8, 1,0.6,3]])"
      ],
      "execution_count": 19,
      "outputs": [
        {
          "output_type": "execute_result",
          "data": {
            "text/plain": [
              "array(['Iris-setosa'], dtype=object)"
            ]
          },
          "metadata": {},
          "execution_count": 19
        }
      ]
    },
    {
      "cell_type": "code",
      "metadata": {
        "id": "8EvkIzcfjEmW",
        "colab": {
          "base_uri": "https://localhost:8080/"
        },
        "outputId": "0fd7044c-bfa9-4839-d1d0-8eb137273c8b"
      },
      "source": [
        "knn.predict_proba([[0.8, 1,0.6,3]])"
      ],
      "execution_count": 20,
      "outputs": [
        {
          "output_type": "execute_result",
          "data": {
            "text/plain": [
              "array([[1., 0., 0.]])"
            ]
          },
          "metadata": {},
          "execution_count": 20
        }
      ]
    },
    {
      "cell_type": "markdown",
      "metadata": {
        "id": "fsCB6srHw3Ml"
      },
      "source": [
        "Para probar parámetros como en el K-NN la K, se puede también utilizar la siguiente función"
      ]
    },
    {
      "cell_type": "code",
      "metadata": {
        "id": "bzo4xMKqw9Qn"
      },
      "source": [
        "#import GridSearchCV\n",
        "from sklearn.model_selection import GridSearchCV\n",
        "param_grid = {'n_neighbors':np.arange(1,50)}"
      ],
      "execution_count": 21,
      "outputs": []
    },
    {
      "cell_type": "code",
      "metadata": {
        "id": "l8Gd_3LKx2G6",
        "colab": {
          "base_uri": "https://localhost:8080/"
        },
        "outputId": "a5a7993f-e4c6-46ca-9001-a05f4b70fa7f"
      },
      "source": [
        "knn = KNeighborsClassifier()\n",
        "knn_cv= GridSearchCV(knn,param_grid,cv=10)\n",
        "knn_cv.fit(X,Y)"
      ],
      "execution_count": 22,
      "outputs": [
        {
          "output_type": "execute_result",
          "data": {
            "text/plain": [
              "GridSearchCV(cv=10, estimator=KNeighborsClassifier(),\n",
              "             param_grid={'n_neighbors': array([ 1,  2,  3,  4,  5,  6,  7,  8,  9, 10, 11, 12, 13, 14, 15, 16, 17,\n",
              "       18, 19, 20, 21, 22, 23, 24, 25, 26, 27, 28, 29, 30, 31, 32, 33, 34,\n",
              "       35, 36, 37, 38, 39, 40, 41, 42, 43, 44, 45, 46, 47, 48, 49])})"
            ]
          },
          "metadata": {},
          "execution_count": 22
        }
      ]
    },
    {
      "cell_type": "code",
      "metadata": {
        "id": "ngaRN6_7yt_C",
        "colab": {
          "base_uri": "https://localhost:8080/"
        },
        "outputId": "5f268f54-021d-48f7-d555-bb8a0dbbc9bd"
      },
      "source": [
        "print(knn_cv.best_score_,knn_cv.best_params_)"
      ],
      "execution_count": 23,
      "outputs": [
        {
          "output_type": "stream",
          "name": "stdout",
          "text": [
            "0.9800000000000001 {'n_neighbors': 13}\n"
          ]
        }
      ]
    },
    {
      "cell_type": "markdown",
      "metadata": {
        "id": "suGPQcyh0beO"
      },
      "source": [
        "## Validación Cruzada"
      ]
    },
    {
      "cell_type": "code",
      "metadata": {
        "id": "EUCmZV4c0eKg"
      },
      "source": [
        "from sklearn.model_selection import cross_validate\n",
        "from sklearn.model_selection import cross_val_score\n",
        "from sklearn.metrics import recall_score\n",
        "from sklearn.model_selection import KFold\n",
        "\n",
        "scoring = ['precision_macro', 'recall_macro','f1_macro']\n",
        "knn = KNeighborsClassifier(n_neighbors=9, metric='euclidean')\n",
        "accuracy = cross_val_score(knn, X, Y, cv=10)\n",
        "scores = cross_validate(knn, X,Y, scoring=scoring, cv=10)"
      ],
      "execution_count": 24,
      "outputs": []
    },
    {
      "cell_type": "code",
      "metadata": {
        "id": "dOx2J5B-0_El",
        "colab": {
          "base_uri": "https://localhost:8080/"
        },
        "outputId": "49d157ee-9ff2-4fda-c83a-c3a9b8c2f6a4"
      },
      "source": [
        "sorted(scores.keys())"
      ],
      "execution_count": 25,
      "outputs": [
        {
          "output_type": "execute_result",
          "data": {
            "text/plain": [
              "['fit_time',\n",
              " 'score_time',\n",
              " 'test_f1_macro',\n",
              " 'test_precision_macro',\n",
              " 'test_recall_macro']"
            ]
          },
          "metadata": {},
          "execution_count": 25
        }
      ]
    },
    {
      "cell_type": "code",
      "metadata": {
        "id": "VabbmLeX1BHd",
        "colab": {
          "base_uri": "https://localhost:8080/"
        },
        "outputId": "07fe3ec3-fb35-499f-c98a-a2b4ab5c4c97"
      },
      "source": [
        "print(accuracy.mean())\n",
        "scores['test_recall_macro'].mean()"
      ],
      "execution_count": 26,
      "outputs": [
        {
          "output_type": "stream",
          "name": "stdout",
          "text": [
            "0.9733333333333334\n"
          ]
        },
        {
          "output_type": "execute_result",
          "data": {
            "text/plain": [
              "0.9733333333333333"
            ]
          },
          "metadata": {},
          "execution_count": 26
        }
      ]
    },
    {
      "cell_type": "markdown",
      "metadata": {
        "id": "3UmktQHB5au4"
      },
      "source": [
        "Para el resto de los clasificadores use:\n",
        "\n",
        "MLP: from sklearn.neural_network import MLPClassifier\n",
        "SVM: from sklearn import svm"
      ]
    },
    {
      "cell_type": "code",
      "metadata": {
        "id": "osS4Zcpf5qG5"
      },
      "source": [
        "from sklearn.neural_network import MLPClassifier\n",
        "#Ejemplo de un MLP con dos capas con 5 y 2 neuronas respectivamente\n",
        "mlp = MLPClassifier(solver='lbfgs', alpha=1e-5,hidden_layer_sizes=10, random_state=1,max_iter=1000)\n"
      ],
      "execution_count": 27,
      "outputs": []
    },
    {
      "cell_type": "code",
      "metadata": {
        "id": "Bjaut5hEWg_C",
        "colab": {
          "base_uri": "https://localhost:8080/"
        },
        "outputId": "ace8e7db-b738-430d-dbfb-65b647e51321"
      },
      "source": [
        "mlp.fit(X_train,y_train)"
      ],
      "execution_count": 28,
      "outputs": [
        {
          "output_type": "execute_result",
          "data": {
            "text/plain": [
              "MLPClassifier(alpha=1e-05, hidden_layer_sizes=10, max_iter=1000, random_state=1,\n",
              "              solver='lbfgs')"
            ]
          },
          "metadata": {},
          "execution_count": 28
        }
      ]
    },
    {
      "cell_type": "code",
      "metadata": {
        "id": "5CKI2MBSX5ED"
      },
      "source": [
        "scoring = ['recall_macro']\n",
        "score_mlp=cross_validate(mlp, X,Y, scoring=scoring, cv=10)\n",
        "accuracy = cross_val_score(mlp, X, Y, cv=10)\n"
      ],
      "execution_count": 29,
      "outputs": []
    },
    {
      "cell_type": "code",
      "metadata": {
        "id": "YOD-Y_EYZHPs",
        "colab": {
          "base_uri": "https://localhost:8080/"
        },
        "outputId": "739704f0-17c4-4a12-fcdf-9acbd1954d36"
      },
      "source": [
        "print(score_mlp['test_recall_macro'].mean())\n",
        "print(accuracy.mean())\n"
      ],
      "execution_count": 30,
      "outputs": [
        {
          "output_type": "stream",
          "name": "stdout",
          "text": [
            "0.9799999999999999\n",
            "0.9800000000000001\n"
          ]
        }
      ]
    },
    {
      "cell_type": "code",
      "metadata": {
        "id": "G1aftAxVqqx3",
        "colab": {
          "base_uri": "https://localhost:8080/"
        },
        "outputId": "a20bc68a-5962-4a93-e66f-f59cfc2c7eeb"
      },
      "source": [
        "param_grid = {'hidden_layer_sizes':np.arange(2,20)}\n",
        "mlp = MLPClassifier(solver='lbfgs', alpha=1e-5,random_state=1,max_iter=1000)\n",
        "mlp_cv= GridSearchCV(mlp,param_grid,cv=10)\n",
        "mlp_cv.fit(X,Y)\n"
      ],
      "execution_count": 31,
      "outputs": [
        {
          "output_type": "execute_result",
          "data": {
            "text/plain": [
              "GridSearchCV(cv=10,\n",
              "             estimator=MLPClassifier(alpha=1e-05, max_iter=1000, random_state=1,\n",
              "                                     solver='lbfgs'),\n",
              "             param_grid={'hidden_layer_sizes': array([ 2,  3,  4,  5,  6,  7,  8,  9, 10, 11, 12, 13, 14, 15, 16, 17, 18,\n",
              "       19])})"
            ]
          },
          "metadata": {},
          "execution_count": 31
        }
      ]
    },
    {
      "cell_type": "code",
      "metadata": {
        "id": "n6rbFoMTqxx2",
        "colab": {
          "base_uri": "https://localhost:8080/"
        },
        "outputId": "10670d51-f1bb-4976-d5e3-43c7ac36bc1f"
      },
      "source": [
        "print(mlp_cv.best_score_,mlp_cv.best_params_)"
      ],
      "execution_count": 32,
      "outputs": [
        {
          "output_type": "stream",
          "name": "stdout",
          "text": [
            "0.9866666666666667 {'hidden_layer_sizes': 12}\n"
          ]
        }
      ]
    },
    {
      "cell_type": "code",
      "metadata": {
        "id": "tqjvyFfK6l8A"
      },
      "source": [
        "from sklearn import svm\n",
        "from sklearn.svm import SVR"
      ],
      "execution_count": 33,
      "outputs": []
    },
    {
      "cell_type": "code",
      "metadata": {
        "id": "MxBOp6_E6MdZ"
      },
      "source": [
        "\n",
        "#Diferentes kernels de SVM\n",
        "svm=svm.SVC(kernel='linear', C=1).fit(X_train, y_train)\n",
        "svm_rbf = SVR(kernel='rbf', C=100, gamma=0.1, epsilon=.1)\n",
        "svm_lin = SVR(kernel='linear', C=100, gamma='auto')\n",
        "svm_poly = SVR(kernel='poly', C=100, gamma='auto', degree=3, epsilon=.1,\n",
        "               coef0=1)"
      ],
      "execution_count": 34,
      "outputs": []
    }
  ]
}